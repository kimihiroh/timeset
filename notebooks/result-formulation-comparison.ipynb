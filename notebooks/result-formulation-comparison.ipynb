{
 "cells": [
  {
   "cell_type": "markdown",
   "id": "654b6e96-e50b-4345-8290-be670457a884",
   "metadata": {},
   "source": [
    "# Create boxplot for results"
   ]
  },
  {
   "cell_type": "code",
   "execution_count": null,
   "id": "154c0d35-f526-418e-932d-dbb4e8ecefb5",
   "metadata": {},
   "outputs": [],
   "source": [
    "import matplotlib.pyplot as plt\n",
    "from pathlib import Path\n",
    "import json\n",
    "from collections import defaultdict\n",
    "import numpy as np\n",
    "import random"
   ]
  },
  {
   "cell_type": "code",
   "execution_count": null,
   "id": "cc29a37b-19d6-45f4-98f2-6c89a0b0344e",
   "metadata": {
    "scrolled": true
   },
   "outputs": [],
   "source": [
    "dirpath = Path(\"../output_score/comparison/\")\n",
    "\n",
    "def get_scores(model_id):\n",
    "    \n",
    "    scores = defaultdict(lambda: defaultdict(list))\n",
    "    \n",
    "    for filepath in dirpath.glob(f\"*/{model_id}*/*.json\"):\n",
    "        if \"mention\" not in filepath.name or \"eid\" not in filepath.name:\n",
    "            continue\n",
    "        \n",
    "        with open(filepath, \"r\") as f:\n",
    "            data = json.load(f)\n",
    "            \n",
    "        if \"document-and-pair-wise-scores\" in data[\"average\"]:\n",
    "            _scores = [x for x in data[\"average\"][\"document-and-pair-wise-scores\"][\"individual\"].values()]\n",
    "        else:\n",
    "            print('hhh')\n",
    "    \n",
    "        scores[data[\"args\"][\"dataset_name\"]][data[\"args\"][\"num_demonstration\"]].extend(_scores)\n",
    "    return scores"
   ]
  },
  {
   "cell_type": "code",
   "execution_count": null,
   "id": "25cff3c5-d459-453d-873a-d24b5322bf6a",
   "metadata": {},
   "outputs": [],
   "source": [
    "def define_box_properties(plot_name, color_code, label):\n",
    "    for k, v in plot_name.items():\n",
    "        plt.setp(plot_name.get(k), color=color_code, alpha=0.7)\n",
    "    plt.plot([], c=color_code, label=label)\n",
    "    for median in plot_name[\"medians\"]:\n",
    "        median.set_color('black')"
   ]
  },
  {
   "cell_type": "code",
   "execution_count": null,
   "id": "a6caf2d3-60c5-4f4b-99fc-4841eb8620b5",
   "metadata": {},
   "outputs": [],
   "source": [
    "formulations = [\"ctf-nli\", \"ctf-pairwise\", \"ctf-mrc\", \"ctf-timeline\"]\n",
    "ticks = [\"NLI\", \"Pairwise\", \"MRC\", \"Timeline\"]\n",
    "model_names = [\"Llama 2 (7B)\", \"Llama 2 Chat (7B)\", \"CodeLlama (7B)\", \"T5 (3B)\", \"Flan-T5 (3B)\"]\n",
    "model_ids = [\"Llama-2-7b-hf\", \"Llama-2-7b-chat-hf\", \"CodeLlama-7b-hf\", \"t5-3b\", \"flan-t5-xl\"]\n",
    "colors = [\"#ffb000\", \"#fe6100\", \"#dc267f\", \"#785ef0\", \"#648fff\"]"
   ]
  },
  {
   "cell_type": "code",
   "execution_count": null,
   "id": "253f07c2-a1b3-4eb0-99cb-45a13a025505",
   "metadata": {},
   "outputs": [],
   "source": [
    "scores = {}\n",
    "for model_id in model_ids:\n",
    "    scores[model_id] = get_scores(model_id)"
   ]
  },
  {
   "cell_type": "code",
   "execution_count": null,
   "id": "829ad32f-4b71-41e8-8ce8-6ad676764d47",
   "metadata": {},
   "outputs": [],
   "source": [
    "plt.figure(figsize=(10, 5))\n",
    "\n",
    "for model_id, color, diff, model_name in zip(model_ids, colors, [0, 0.35, 0.7, 1.05, 1.4], model_names):\n",
    "    points_flat = [\n",
    "        [x for xs in scores[model_id][formulation].values() for x in xs] \n",
    "        for formulation in formulations\n",
    "    ]\n",
    "    positions_x = np.array(np.arange(len(points_flat)))*2.0-0.7+diff\n",
    "    plot = plt.boxplot(\n",
    "        points_flat,\n",
    "    \tpositions=positions_x, \n",
    "        widths=0.3,\n",
    "        showfliers=False,\n",
    "        patch_artist=True\n",
    "    )\n",
    "    define_box_properties(plot, color, model_name)\n",
    "    # for idx, formulation in enumerate(formulations):\n",
    "    #     for num, marker, diff in zip([0,1,2,3], ['o', 'x', 's', '^'], [0,0.1,0.3,0.4]):\n",
    "    #         points = [x for x in scores[model_id][formulation][num]]\n",
    "    #         positions = [positions_x[idx]-0.2+diff for _ in points]\n",
    "    #         plt.scatter(positions, points, c=color, marker=marker, alpha=0.5)\n",
    "\n",
    "# check notebooks/random-guess-perf.ipynb\n",
    "plt.axhline(y=0.39, color='#0D98BA', label=\"random\", alpha=0.5, linestyle='dotted')\n",
    "plt.axhline(y=0.29788, color='#000000', label=\"majority\", alpha=0.5, linestyle='dashed')\n",
    "\n",
    "plt.grid(axis='y', color='g', linestyle=':', linewidth=0.3)\n",
    "\n",
    "# set the x label values\n",
    "plt.xticks(np.arange(0, len(ticks) * 2, 2), ticks)\n",
    "# set the limit for y axis\n",
    "plt.ylim(0.0, 0.68)\n",
    "\n",
    "plt.legend(ncol=2)\n",
    "\n",
    "plt.box(False)\n",
    "\n",
    "plt.ylabel(\"F1\")\n",
    "plt.xlabel(\"Formulation\")\n",
    "\n",
    "plt.savefig(f\"./figures/result_formulation_comparison_base.pdf\", format=\"pdf\", bbox_inches='tight')\n",
    "plt.show()"
   ]
  },
  {
   "cell_type": "code",
   "execution_count": null,
   "id": "b7e2d6db-3e07-4839-b1ce-9949a1bba6ca",
   "metadata": {},
   "outputs": [],
   "source": []
  },
  {
   "cell_type": "code",
   "execution_count": null,
   "id": "e20293b9-d43e-44df-a273-75a23c703079",
   "metadata": {},
   "outputs": [],
   "source": [
    "formulations = [\"ctf-mrc\", \"ctf-mrc-cot\", \"ctf-timeline\", \"ctf-timeline-cot\", \"ctf-timeline-code\"]\n",
    "ticks = [\"MRC\", \"MRC(CoT)\", \"Timeline\", \"Timeline\\n(CoT)\", \"Timeline\\n(code)\"]\n",
    "model_ids = [\"Llama-2-7b-hf\", \"flan-t5-xl\"]\n",
    "model_names = [\"Llama 2 (7B)\", \"Flan-T5 (3B)\"]\n",
    "colors = ['#ffb000', '#648fff']"
   ]
  },
  {
   "cell_type": "code",
   "execution_count": null,
   "id": "6afb5970-0ec2-4b40-ab0c-ab170b15cad9",
   "metadata": {},
   "outputs": [],
   "source": [
    "scores = {}\n",
    "for model_id in model_ids:\n",
    "    scores[model_id] = get_scores(model_id)"
   ]
  },
  {
   "cell_type": "code",
   "execution_count": null,
   "id": "ec2d120b-28be-4eee-889d-361b4eefac2e",
   "metadata": {},
   "outputs": [],
   "source": [
    "plt.figure(figsize=(5, 4))\n",
    "\n",
    "for model_id, color, diff, model_name in zip(model_ids, colors, [0, 0.35, 0.7, 1.05, 1.4], model_names):\n",
    "    points_flat = [[x for xs in scores[model_id][formulation].values() for x in xs] for formulation in formulations]\n",
    "    positions_x = np.array(np.arange(len(points_flat)))*1.0-0.2+diff\n",
    "    plot = plt.boxplot(\n",
    "        points_flat,\n",
    "    \tpositions=positions_x, \n",
    "        widths=0.3,\n",
    "        showfliers=False,\n",
    "        patch_artist=True\n",
    "    )\n",
    "    define_box_properties(plot, color, model_name)\n",
    "    # for idx, formulation in enumerate(formulations):\n",
    "    #     for num, marker, diff in zip([0,1,2,3], ['o', 'x', 's', '^'], [0,0.1,0.3,0.4]):\n",
    "    #         points = [x for x in scores[model_id][formulation][num]]\n",
    "    #         positions = [positions_x[idx]-0.2+diff for _ in points]\n",
    "    #         plt.scatter(positions, points, c=color, marker=marker, alpha=0.5)\n",
    "\n",
    "# plt.axhline(y=0.35, color='#0D98BA', label=\"random\", alpha=0.5, linestyle='dotted')\n",
    "# plt.axhline(y=0.387, color='#000000', label=\"majority\", alpha=0.5, linestyle='dashed')\n",
    "\n",
    "plt.grid(axis='y', color='g', linestyle=':', linewidth=0.3)\n",
    "\n",
    "# set the x label values\n",
    "plt.xticks(np.arange(0, len(ticks) * 1, 1), ticks)\n",
    "# set the limit for y axis\n",
    "plt.ylim(0.0, 0.45)\n",
    "\n",
    "plt.legend(ncol=2)\n",
    "\n",
    "plt.box(False)\n",
    "plt.xticks(rotation=0, ha='center')\n",
    "\n",
    "plt.ylabel(\"F1\")\n",
    "# plt.xlabel(\"Formulation\")\n",
    "# set the title\n",
    "# plt.title('Grouped boxplot using matplotlib')\n",
    "plt.savefig(f\"./figures/result_formulation_comparison_prompt.pdf\", format=\"pdf\", bbox_inches='tight')\n",
    "plt.show()"
   ]
  },
  {
   "cell_type": "code",
   "execution_count": null,
   "id": "89d3db34-bad0-4340-8ddc-0e272de0e0e3",
   "metadata": {},
   "outputs": [],
   "source": []
  },
  {
   "cell_type": "code",
   "execution_count": null,
   "id": "46b25f9a-74ff-440b-9ca3-77bd4eeced9f",
   "metadata": {},
   "outputs": [],
   "source": [
    "formulations = [\"ctf-timeline\"]\n",
    "ticks = [\"eid\\nmention\", \"eid\\nstructured\", \"star\\nmention\", \"star\\nstructured\"]\n",
    "model_ids = [\"Llama-2-7b-hf\"]\n",
    "model_names = [\"Llama 2 (7B)\"]\n",
    "colors = [\"#ffb000\"]"
   ]
  },
  {
   "cell_type": "code",
   "execution_count": null,
   "id": "2d40fc8e-a6be-420d-9583-31ce40845efe",
   "metadata": {},
   "outputs": [],
   "source": [
    "def get_scores_all(model_id):\n",
    "    \n",
    "    scores = defaultdict(lambda: defaultdict(lambda: defaultdict(lambda: defaultdict(list))))\n",
    "    \n",
    "    for filepath in dirpath.glob(f\"*/{model_id}*/*.json\"):\n",
    "        \n",
    "        with open(filepath, \"r\") as f:\n",
    "            data = json.load(f)\n",
    "            \n",
    "        if \"document-and-pair-wise-scores\" in data[\"average\"]:\n",
    "            _scores = [x for x in data[\"average\"][\"document-and-pair-wise-scores\"][\"individual\"].values()]\n",
    "        else:\n",
    "            print('hhh')\n",
    "    \n",
    "        scores[data[\"args\"][\"dataset_name\"]][data[\"args\"][\"marker\"]][data[\"args\"][\"representation\"]][data[\"args\"][\"num_demonstration\"]].extend(_scores)\n",
    "    return scores"
   ]
  },
  {
   "cell_type": "code",
   "execution_count": null,
   "id": "d7be6b58-d8c4-4f43-a396-f5a0b3aedccc",
   "metadata": {
    "scrolled": true
   },
   "outputs": [],
   "source": [
    "scores = {}\n",
    "for model_id in model_ids:\n",
    "    scores[model_id] = get_scores_all(model_id)\n",
    "scores;"
   ]
  },
  {
   "cell_type": "code",
   "execution_count": null,
   "id": "f6d78965-c3d5-4400-920f-1d108f1c9e38",
   "metadata": {},
   "outputs": [],
   "source": [
    "scores[\"Llama-2-7b-hf\"][\"ctf-timeline\"][\"eid\"][\"mention\"];"
   ]
  },
  {
   "cell_type": "code",
   "execution_count": null,
   "id": "b13d3b92-b170-4d32-9b21-36b88eff0d3d",
   "metadata": {},
   "outputs": [],
   "source": [
    "plt.figure(figsize=(4, 3))\n",
    "color = \"#ffb000\"\n",
    "model_id = \"Llama-2-7b-hf\"\n",
    "model_name = \"Llama 2 (7B)\"\n",
    "\n",
    "points_flat = []\n",
    "for marker in [\"eid\", \"star\"]:\n",
    "    for representation in [\"mention\", \"structured\"]:\n",
    "        _points_flat = [\n",
    "            x \n",
    "            for formulation in formulations\n",
    "            for xs in scores[model_id][formulation][marker][representation].values() \n",
    "            for x in xs\n",
    "        ]\n",
    "        points_flat.append(_points_flat)\n",
    "positions_x = np.array(np.arange(len(points_flat)))*1.0\n",
    "\n",
    "plot = plt.boxplot(\n",
    "    points_flat,\n",
    "    positions=positions_x, \n",
    "    widths=0.3,\n",
    "    showfliers=False,\n",
    "    patch_artist=True\n",
    ")\n",
    "define_box_properties(plot, color, model_name)\n",
    "\n",
    "plt.grid(axis='y', color='g', linestyle=':', linewidth=0.3)\n",
    "\n",
    "plt.xticks(np.arange(0, len(ticks) * 1, 1), ticks, ha='center')\n",
    "plt.ylim(0, 0.41)\n",
    "\n",
    "plt.legend()\n",
    "\n",
    "plt.box(False)\n",
    "# plt.xticks(rotation=45, ha='right')\n",
    "\n",
    "plt.ylabel(\"F1\")\n",
    "# plt.xlabel(\"Event representations\")\n",
    "# set the title\n",
    "# plt.title('Grouped boxplot using matplotlib')\n",
    "plt.savefig(f\"./figures/result_formulation_comparison_repr.pdf\", format=\"pdf\", bbox_inches='tight')\n",
    "plt.show()"
   ]
  },
  {
   "cell_type": "code",
   "execution_count": null,
   "id": "4857ed76-1b99-481d-8852-45ef39edfca2",
   "metadata": {},
   "outputs": [],
   "source": []
  },
  {
   "cell_type": "code",
   "execution_count": null,
   "id": "ae57a9cc-c9b0-4f4f-ac8c-f25f162fbd77",
   "metadata": {},
   "outputs": [],
   "source": []
  },
  {
   "cell_type": "code",
   "execution_count": null,
   "id": "71921ba1-f5e1-429d-a472-ac0b82daaead",
   "metadata": {},
   "outputs": [],
   "source": []
  },
  {
   "cell_type": "code",
   "execution_count": null,
   "id": "53b78b1d-062d-40e7-834b-069c985ee258",
   "metadata": {},
   "outputs": [],
   "source": [
    "# size with llama 2 and flan t5\n",
    "def get_median(model_id):\n",
    "    \n",
    "    scores = defaultdict(lambda: defaultdict(list))\n",
    "    \n",
    "    for filepath in dirpath.glob(f\"*/{model_id}*/*.json\"):\n",
    "        if \"mention\" not in filepath.name or \"eid\" not in filepath.name:\n",
    "            continue\n",
    "        \n",
    "        with open(filepath, \"r\") as f:\n",
    "            data = json.load(f)\n",
    "            \n",
    "        if \"document-and-pair-wise-scores\" in data[\"average\"]:\n",
    "            _score = data[\"average\"][\"document-and-pair-wise-scores\"][\"range\"][\"median\"]\n",
    "        else:\n",
    "            print('hhh')\n",
    "    \n",
    "        scores[data[\"args\"][\"dataset_name\"]][data[\"args\"][\"num_demonstration\"]].append(_score)\n",
    "    return scores"
   ]
  },
  {
   "cell_type": "code",
   "execution_count": null,
   "id": "29a343ff-69ea-4a5f-b133-d1c8786a98f6",
   "metadata": {},
   "outputs": [],
   "source": [
    "model_ids = [\"Llama-2-7b-hf\", \"Llama-2-13b-hf\", \"Llama-2-70b-hf\", \"flan-t5-large\", \"flan-t5-xl\", \"flan-t5-xxl\"]\n",
    "# formulations = [\"ctf-nli\", \"ctf-pairwise\", \"ctf-mrc\", \"ctf-timeline\"]\n",
    "ticks = [\"NLI\", \"Pairwise\", \"MRC\", \"Timeline\"]\n",
    "colors = [\"#dc267f\", \"#fe6100\", \"#648fff\", \"#785ef0\"]"
   ]
  },
  {
   "cell_type": "code",
   "execution_count": null,
   "id": "b3bd34f2-b3ef-4b0c-8813-626f82263c92",
   "metadata": {},
   "outputs": [],
   "source": [
    "scores = {}\n",
    "for model_id in model_ids:\n",
    "    scores[model_id] = get_median(model_id)"
   ]
  },
  {
   "cell_type": "code",
   "execution_count": null,
   "id": "8c019163-ee15-4a5e-b150-d1d38f480055",
   "metadata": {
    "scrolled": true
   },
   "outputs": [],
   "source": [
    "scores;"
   ]
  },
  {
   "cell_type": "code",
   "execution_count": null,
   "id": "5b1f60ac-7243-44da-b307-7dba9255b4f9",
   "metadata": {},
   "outputs": [],
   "source": [
    "from matplotlib.lines import Line2D\n",
    "\n",
    "fig, ax = plt.subplots(figsize=(6, 4))\n",
    "configs = [\n",
    "    (\"ctf-nli\", 'o', \"-\"), \n",
    "    (\"ctf-pairwise\", 'x', \"--\"), \n",
    "    (\"ctf-mrc\", 's', \":\"), \n",
    "    (\"ctf-timeline\", '^', \"-.\")\n",
    "]\n",
    "for (formulation, marker, linestyle), color in zip(configs, colors):\n",
    "    nums = []\n",
    "    for model_id in [\"Llama-2-7b-hf\", \"Llama-2-13b-hf\", \"Llama-2-70b-hf\"]:\n",
    "        nums.append(max([x for x in scores[model_id][formulation].values()]))\n",
    "    ax.plot([7, 13, 35], nums, label=formulation, marker=marker, color='#ffb000', linestyle=linestyle, alpha=0.7)\n",
    "    nums = []\n",
    "    for model_id in [\"flan-t5-large\", \"flan-t5-xl\", \"flan-t5-xxl\"]:\n",
    "        nums.append(max([x for x in scores[model_id][formulation].values()]))\n",
    "    ax.plot([0.7, 3, 11], nums, label=formulation, marker=marker, color='#648fff', linestyle=linestyle, alpha=0.7)\n",
    "\n",
    "plt.xticks([0.7, 3, 7, 11, 13, 35])\n",
    "plt.gca().set_xticklabels(['700M', '3B','7B', '11B', '13B', '70B'])\n",
    "\n",
    "legend_elements = [\n",
    "    Line2D([0], [0], color='#ffb000', label='Llama 2'),\n",
    "    Line2D([0], [0], color='#648fff', label='Flan-T5'),\n",
    "    Line2D([0], [0], marker='o', color='grey', label='NLI', markerfacecolor='grey', linestyle='-'),\n",
    "    Line2D([0], [0], marker='x', color='grey', label='Pairwise', markerfacecolor='grey', linestyle='--'),\n",
    "    Line2D([0], [0], marker='s', color='grey', label='MRC', markerfacecolor='grey', linestyle=':'),\n",
    "    Line2D([0], [0], marker='^', color='grey', label='Timeline', markerfacecolor='grey', linestyle='-.'),\n",
    "]\n",
    "plt.xticks(rotation=15, ha='center')\n",
    "plt.ylabel(\"F1\")\n",
    "# plt.xlabel(\"Model size\")\n",
    "plt.box(False)\n",
    "plt.grid(axis='y', color='g', linestyle=':', linewidth=0.3)\n",
    "\n",
    "plt.legend(handles=legend_elements, ncol=3)\n",
    "plt.savefig(f\"./figures/result_formulation_comparison_size.pdf\", format=\"pdf\", bbox_inches='tight')\n",
    "plt.show()"
   ]
  },
  {
   "cell_type": "code",
   "execution_count": null,
   "id": "6bd333bc-81bc-4180-b5a4-45608f0de0db",
   "metadata": {},
   "outputs": [],
   "source": []
  },
  {
   "cell_type": "code",
   "execution_count": null,
   "id": "c84f1b3a-8a0d-4467-a00f-362c8412c09a",
   "metadata": {},
   "outputs": [],
   "source": [
    "from matplotlib.lines import Line2D\n",
    "\n",
    "fig, ax = plt.subplots(figsize=(4, 3))\n",
    "markers = [\"o\", \"x\", \"s\", \"^\"]\n",
    "formulations = [\"ctf-nli\", \"ctf-pairwise\", \"ctf-mrc\", \"ctf-timeline\"]\n",
    "for formulation, marker, linestyle in configs:\n",
    "    model_id = \"Llama-2-7b-hf\"\n",
    "    ax.plot(\n",
    "        [0,1,2,3], \n",
    "        [scores[model_id][formulation][num] for num in [0,1,2,3]], \n",
    "        label=formulation, marker=marker, color='#ffb000', alpha=0.7, linestyle=linestyle\n",
    "    )\n",
    "\n",
    "    model_id = \"flan-t5-xl\"\n",
    "    ax.plot(\n",
    "        [0,1,2,3], \n",
    "        [scores[model_id][formulation][num] for num in [0,1,2,3]],\n",
    "        label=formulation, marker=marker, color='#648fff', alpha=0.7, linestyle=linestyle\n",
    "    )\n",
    "\n",
    "plt.xticks([0,1,2,3])\n",
    "\n",
    "legend_elements = [\n",
    "    Line2D([0], [0], color='#ffb000', label='Llama 2 (7B)'),\n",
    "    Line2D([0], [0], color='#648fff', label='Flan-T5 (3B)'),\n",
    "    Line2D([0], [0], marker='o', color='grey', label='NLI', markerfacecolor='grey', linestyle='-'),\n",
    "    Line2D([0], [0], marker='x', color='grey', label='Pairwise', markerfacecolor='grey', linestyle='--'),\n",
    "    Line2D([0], [0], marker='s', color='grey', label='MRC', markerfacecolor='grey', linestyle=':'),\n",
    "    Line2D([0], [0], marker='^', color='grey', label='Timeline', markerfacecolor='grey', linestyle='-.'),\n",
    "]\n",
    "# plt.xticks(rotation=45, ha='right')\n",
    "plt.ylabel(\"F1\")\n",
    "# plt.xlabel(\"#demonstration\")\n",
    "plt.box(False)\n",
    "plt.grid(axis='y', color='g', linestyle=':', linewidth=0.3)\n",
    "plt.ylim(0.0, 0.95)\n",
    "\n",
    "plt.legend(handles=legend_elements, ncol=2)\n",
    "plt.savefig(f\"./figures/result_formulation_comparison_demo.pdf\", format='pdf', bbox_inches='tight')\n",
    "plt.show()"
   ]
  },
  {
   "cell_type": "code",
   "execution_count": null,
   "id": "5dc5e36d-43d8-400f-b25a-236db1cebf4a",
   "metadata": {},
   "outputs": [],
   "source": []
  }
 ],
 "metadata": {
  "kernelspec": {
   "display_name": "timeset",
   "language": "python",
   "name": "timeset"
  },
  "language_info": {
   "codemirror_mode": {
    "name": "ipython",
    "version": 3
   },
   "file_extension": ".py",
   "mimetype": "text/x-python",
   "name": "python",
   "nbconvert_exporter": "python",
   "pygments_lexer": "ipython3",
   "version": "3.10.13"
  }
 },
 "nbformat": 4,
 "nbformat_minor": 5
}
