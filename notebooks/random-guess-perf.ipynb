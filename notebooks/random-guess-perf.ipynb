{
 "cells": [
  {
   "cell_type": "markdown",
   "id": "e2700e37-766b-4de9-babe-543716970771",
   "metadata": {},
   "source": [
    "# Random Guess Performance on our in-house data"
   ]
  },
  {
   "cell_type": "code",
   "execution_count": null,
   "id": "9f376dc5-8a6f-4153-96da-f9eaf9f2e01c",
   "metadata": {},
   "outputs": [],
   "source": [
    "import random\n",
    "from sklearn.metrics import classification_report\n",
    "from tqdm import tqdm"
   ]
  },
  {
   "cell_type": "code",
   "execution_count": null,
   "id": "6962a781-b507-4bd4-92a7-4a049dfd88c0",
   "metadata": {},
   "outputs": [],
   "source": [
    "convert = {\n",
    "    \"AFTER\": 0,\n",
    "    \"BEFORE\": 1,\n",
    "    \"COEX\": 2\n",
    "}"
   ]
  },
  {
   "cell_type": "code",
   "execution_count": null,
   "id": "1356a6c9-dcc5-4dc8-8c49-d94603715142",
   "metadata": {},
   "outputs": [],
   "source": [
    "import json\n",
    "with open(\"../data/preprocessed/ctf/test.json\", \"r\") as f:\n",
    "    data = json.load(f)"
   ]
  },
  {
   "cell_type": "code",
   "execution_count": null,
   "id": "d12676f6-22b4-4188-90ba-bee50b100da1",
   "metadata": {},
   "outputs": [],
   "source": [
    "for choices in [[0,1], [0,1,2]]:\n",
    "    avg = []\n",
    "    for _ in tqdm(range(100)):\n",
    "        scores = []\n",
    "        for example in data:\n",
    "            report = classification_report(\n",
    "                [convert[x] for x in example[\"pairs\"][\"original\"].values()],\n",
    "                [random.choice(choices) for x in example[\"pairs\"][\"original\"]],\n",
    "                labels=[0,1,2],\n",
    "                target_names=[\"AFTER\", \"BEFORE\", \"COEX\"],\n",
    "                output_dict=True,\n",
    "                zero_division=0.0,\n",
    "            )\n",
    "            scores.append(report['weighted avg'][\"f1-score\"])\n",
    "        avg.append(sum(scores)/len(scores))\n",
    "    print(f\"Random Guess ({choices}): {sum(avg)/len(avg)}\")"
   ]
  },
  {
   "cell_type": "code",
   "execution_count": null,
   "id": "2e74e1c3-2458-46e3-85b5-75e582ba448e",
   "metadata": {},
   "outputs": [],
   "source": [
    "data[0]['pairs']['original'];"
   ]
  },
  {
   "cell_type": "code",
   "execution_count": null,
   "id": "fad04201-3051-4045-ab70-d22fea4af7f5",
   "metadata": {},
   "outputs": [],
   "source": [
    "scores = []\n",
    "for vote in [0, 1, 2]:\n",
    "    for example in data:\n",
    "        report = classification_report(\n",
    "            [convert[x] for x in example[\"pairs\"][\"original\"].values()],\n",
    "            [vote for x in example[\"pairs\"][\"original\"]],\n",
    "            labels=[0,1,2],\n",
    "            target_names=[\"AFTER\", \"BEFORE\", \"COEX\"],\n",
    "            output_dict=True,\n",
    "            zero_division=0.0,\n",
    "        )\n",
    "        scores.append(report['weighted avg'][\"f1-score\"])\n",
    "     \n",
    "    print(f\"Vote ({vote}): {sum(scores)/len(scores)}\")"
   ]
  },
  {
   "cell_type": "code",
   "execution_count": null,
   "id": "671cc009-9c40-4ddb-970d-2d099dae1736",
   "metadata": {},
   "outputs": [],
   "source": []
  }
 ],
 "metadata": {
  "kernelspec": {
   "display_name": "timeset",
   "language": "python",
   "name": "timeset"
  },
  "language_info": {
   "codemirror_mode": {
    "name": "ipython",
    "version": 3
   },
   "file_extension": ".py",
   "mimetype": "text/x-python",
   "name": "python",
   "nbconvert_exporter": "python",
   "pygments_lexer": "ipython3",
   "version": "3.10.13"
  }
 },
 "nbformat": 4,
 "nbformat_minor": 5
}
