{
 "cells": [
  {
   "cell_type": "code",
   "execution_count": null,
   "id": "18477516-19e6-4885-8294-35deff5af3d5",
   "metadata": {},
   "outputs": [],
   "source": [
    "import json\n",
    "from pathlib import Path\n",
    "from collections import defaultdict\n",
    "import statistics"
   ]
  },
  {
   "cell_type": "code",
   "execution_count": null,
   "id": "ed4067bb-2dfa-4603-bf33-910c60cf9fd2",
   "metadata": {},
   "outputs": [],
   "source": [
    "datasets = [\"temporal-nli\", \"matres\", \"tddiscourse\", \"torque\"]\n",
    "model_ids = [\"Llama-2-7b-hf\", \"Llama-2-7b-chat-hf\", \"Llama-2-13b-hf\", \"Llama-2-70b-hf\", \"flan-t5-xl\", \"flan-t5-xxl\", \"t5-3b\"]"
   ]
  },
  {
   "cell_type": "code",
   "execution_count": null,
   "id": "ee37c5a1-fe8d-4d61-9ece-4c75fe128117",
   "metadata": {},
   "outputs": [],
   "source": [
    "dirpath = Path(\"../output_score/benchmark/\")\n",
    "scores = defaultdict(lambda: defaultdict(list))\n",
    "for dataset in datasets:\n",
    "    print(dataset)\n",
    "    for model_id in model_ids:\n",
    "        print(f\"  {model_id}\")\n",
    "        for filepath in dirpath.glob(f\"{dataset}/*{model_id}*few-shot*/*.json\"):\n",
    "            \n",
    "            with open(filepath, \"r\") as f:\n",
    "                data = json.load(f)\n",
    "            \n",
    "            if dataset == \"temporal-nli\":\n",
    "                _max = statistics.median(\n",
    "                    [x['macro avg']['f1-score'] for x in data['individuals']['example-wise-scores'].values()]\n",
    "                )\n",
    "                scores[dataset][model_id].append(_max)\n",
    "            elif dataset == 'matres':\n",
    "                # for k, x in data['individuals']['example-wise-scores'].items():\n",
    "                #     if 'micro avg' not in x:\n",
    "                #         print(filepath)\n",
    "                #         print(k)\n",
    "                #         print(x)\n",
    "                _max = statistics.median(\n",
    "                    [x['micro avg']['f1-score'] if 'micro avg' in x else x['accuracy'] for x in data['individuals']['example-wise-scores'].values()]\n",
    "                )\n",
    "                scores[dataset][model_id].append(_max)\n",
    "            else:\n",
    "                if dataset == \"torque\":\n",
    "                    _max = data['average']['exact-match-relaxed']['median']\n",
    "                else:\n",
    "                    _max = data['average']['example-wise-scores']['median']\n",
    "                scores[dataset][model_id].append(_max)"
   ]
  },
  {
   "cell_type": "code",
   "execution_count": null,
   "id": "3122aa89-9552-4e26-93a7-7c991f23800c",
   "metadata": {},
   "outputs": [],
   "source": [
    "for dataset, _scores in scores.items():\n",
    "    print(f\"{dataset}\")\n",
    "    for model, __scores in _scores.items():\n",
    "        print(f\"  {model}: {max(__scores):.3f}\")"
   ]
  },
  {
   "cell_type": "code",
   "execution_count": null,
   "id": "6286e303-5b74-4f1c-808b-79db26902320",
   "metadata": {},
   "outputs": [],
   "source": []
  }
 ],
 "metadata": {
  "kernelspec": {
   "display_name": "timeset",
   "language": "python",
   "name": "timeset"
  },
  "language_info": {
   "codemirror_mode": {
    "name": "ipython",
    "version": 3
   },
   "file_extension": ".py",
   "mimetype": "text/x-python",
   "name": "python",
   "nbconvert_exporter": "python",
   "pygments_lexer": "ipython3",
   "version": "3.10.13"
  }
 },
 "nbformat": 4,
 "nbformat_minor": 5
}
