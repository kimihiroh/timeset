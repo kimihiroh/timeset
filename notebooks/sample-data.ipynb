{
 "cells": [
  {
   "cell_type": "markdown",
   "id": "51d86a50-7b1c-4133-a0bb-2f8ec575f74c",
   "metadata": {},
   "source": [
    "# Sample data to reproduce experiments in the paper\n",
    "target size\n",
    "* test: 40\n",
    "* dev: 10\n",
    "\n",
    "Note:\n",
    "* diverse topic and type as much as possible"
   ]
  },
  {
   "cell_type": "code",
   "execution_count": null,
   "id": "dc3addef-6814-467a-98ff-24fb0b23bec7",
   "metadata": {},
   "outputs": [],
   "source": [
    "import json\n",
    "from pathlib import Path\n",
    "from collections import defaultdict"
   ]
  },
  {
   "cell_type": "code",
   "execution_count": null,
   "id": "d778064e-1e8a-482e-b49e-ccdc8ca232d1",
   "metadata": {},
   "outputs": [],
   "source": [
    "exclude_list = defaultdict(list)"
   ]
  },
  {
   "cell_type": "code",
   "execution_count": null,
   "id": "017cdd5e-fb8a-437a-8449-9a013193c6ec",
   "metadata": {},
   "outputs": [],
   "source": [
    "exclude_list['test'] = [\n",
    "    \"computers_1\",\n",
    "    \"crime_and_law_accuse_2\",\n",
    "    \"crime_and_law_sentence_4\",\n",
    "    \"crime_and_law_accuse_3_extra\",\n",
    "    \"crime_and_law_sentence_1\",\n",
    "    \"crime_and_law_sentence_3\",\n",
    "    \"crime_and_law_sentence_3\",\n",
    "    \"culture_and_entertainment_3_extra\",\n",
    "    \"culture_and_entertainment_3_extra\",\n",
    "    \"disasters_and_accidents_aviation_accidents_and_incidents_1\",\n",
    "    \"disasters_and_accidents_aviation_accidents_and_incidents_3\",\n",
    "    \"disasters_and_accidents_aviation_accidents_and_incidents_3_extra\",\n",
    "    \"disasters_and_accidents_aviation_accidents_and_incidents_4\",\n",
    "    \"disasters_and_accidents_famine_3\",\n",
    "    \"disasters_and_accidents_famine_4\",\n",
    "    \"disasters_and_accidents_fires_3\",\n",
    "    \"disasters_and_accidents_fires_3_extra\",\n",
    "    \"disasters_and_accidents_fires_4\",\n",
    "    \"disasters_and_accidents_gas_explosion_3\",\n",
    "    \"disasters_and_accidents_gas_explosion_4\",\n",
    "    \"disasters_and_accidents_road_crash_4\",\n",
    "    \"disasters_and_accidents_shipwreck_4\",\n",
    "    \"disasters_and_accidents_volcanoes_3\",\n",
    "    \"economy_and_business_financial_crisis_2\",\n",
    "    \"economy_and_business_financial_crisis_3\",\n",
    "    \"economy_and_business_merger_3\",\n",
    "    \"economy_and_business_merger_4\",\n",
    "    \"economy_and_business_organization_closed_3\",\n",
    "    \"economy_and_business_organization_closed_4\",\n",
    "    \"economy_and_business_strikes_4\",\n",
    "    \"environment_1\",\n",
    "    \"government_and_politics_protests_4\",\n",
    "    \"government_and_politics_riots_3\",\n",
    "    \"infectious_disease_3\",\n",
    "    \"internet_1\",\n",
    "    \"mining_3\",\n",
    "    \"politics_and_conflicts_armed_conflict_1\",\n",
    "    \"politics_and_conflicts_armed_conflict_3\",\n",
    "    \"politics_and_conflicts_armed_conflict_4\",\n",
    "    \"politics_and_conflicts_diplomatic_talks_3\",\n",
    "    \"politics_and_conflicts_diplomatic_talks_4\",\n",
    "    \"politics_and_conflicts_drones_2\",\n",
    "    \"politics_and_conflicts_elections_1\",\n",
    "    \"politics_and_conflicts_elections_4\",\n",
    "    \"politics_and_conflicts_policy_change_1\",\n",
    "    \"politics_and_conflicts_policy_change_3\",\n",
    "    \"politics_and_conflicts_policy_change_4\",\n",
    "    \"politics_and_conflicts_resign_1_extra\",\n",
    "    \"politics_and_conflicts_resign_3\",\n",
    "    \"politics_and_conflicts_resign_4\",\n",
    "    \"space_1\",\n",
    "    \"space_3\",\n",
    "    \"sports_2\",\n",
    "    \"sports_3\",\n",
    "    \"sports_4\",\n",
    "    \"weather_earthquakes_1_extra\",\n",
    "    \"weather_earthquakes_3\",\n",
    "    \"weather_earthquakes_4\",\n",
    "    \"weather_floods_2\",\n",
    "    \"weather_storms_1\",\n",
    "    \"weather_storms_3\",\n",
    "    \"weather_storms_4\",\n",
    "]"
   ]
  },
  {
   "cell_type": "code",
   "execution_count": null,
   "id": "3ddabfc2-d14c-46fa-a141-39d21abadd25",
   "metadata": {},
   "outputs": [],
   "source": [
    "exclude_list['dev'] = [\n",
    "    \"disasters_and_accidents_1\",\n",
    "    \"disasters_and_accidents_2\",\n",
    "    \"disasters_and_accidents_3\",\n",
    "    \"disasters_and_accidents_4\",\n",
    "    \"crime_and_law_1\",\n",
    "    \"crime_and_law_2\",\n",
    "    \"crime_and_law_3\",\n",
    "    \"crime_and_law_4\",\n",
    "]"
   ]
  },
  {
   "cell_type": "code",
   "execution_count": null,
   "id": "4b928f0c-d2b6-4a93-bd0d-6b91ae742f22",
   "metadata": {},
   "outputs": [],
   "source": [
    "dirpath = Path(\"../data/preprocess/timeset-sample/\")\n",
    "if not dirpath.exists():\n",
    "    dirpath.mkdir()"
   ]
  },
  {
   "cell_type": "code",
   "execution_count": null,
   "id": "1c987fe6-30fe-43cd-800a-337577b7662d",
   "metadata": {},
   "outputs": [],
   "source": [
    "for split in [\"dev\", \"test\"]:\n",
    "    with open(f\"../data/preprocess/timeset/{split}.json\", \"r\") as f:\n",
    "        examples = json.load(f)\n",
    "\n",
    "    new_examples = []\n",
    "    for example in examples:\n",
    "        if example[\"filename\"] in exclude_list[split]:\n",
    "            pass\n",
    "        else:\n",
    "            new_examples.append(example)\n",
    "    \n",
    "    with open(f\"../data/preprocess/timeset-sample/{split}.json\", \"w\") as f:\n",
    "        json.dump(new_examples, f, indent=4)\n",
    "        f.write(\"\\n\")"
   ]
  },
  {
   "cell_type": "code",
   "execution_count": null,
   "id": "b8846866-3b4f-4f9c-a3b4-040ef14044ba",
   "metadata": {},
   "outputs": [],
   "source": []
  },
  {
   "cell_type": "code",
   "execution_count": null,
   "id": "d7d7016c-5079-4ce4-a369-585c2f159132",
   "metadata": {},
   "outputs": [],
   "source": [
    "# check if sampling correctly happening\n",
    "for split in [\"dev\", \"test\"]:\n",
    "    print(split)\n",
    "    with open(f\"../data/preprocess/timeset-sample/{split}.json\", \"r\") as f:\n",
    "        examples = json.load(f)\n",
    "    with open(f\"../data/preprocess/timeset-metadata/{split}.json\", \"r\") as f:\n",
    "        metadata = json.load(f)\n",
    "\n",
    "    count_type = defaultdict(int)\n",
    "    count_topic = defaultdict(int)\n",
    "    for example in examples:\n",
    "        filename = example[\"filename\"]\n",
    "        _metadata = metadata[filename]\n",
    "        count_type[_metadata[\"date(binary)\"]+_metadata[\"length(binary)\"]] += 1\n",
    "        count_topic[_metadata[\"topic\"][0]+_metadata[\"topic\"][1]] += 1\n",
    "    print(count_type)\n",
    "    print(count_topic, len(count_topic))"
   ]
  },
  {
   "cell_type": "code",
   "execution_count": null,
   "id": "b1d3e63f-fa4d-49bd-a5d8-d98bca79afa5",
   "metadata": {},
   "outputs": [],
   "source": []
  },
  {
   "cell_type": "code",
   "execution_count": null,
   "id": "49652f79-4cd7-4797-94a5-fd9822cdd02e",
   "metadata": {},
   "outputs": [],
   "source": []
  }
 ],
 "metadata": {
  "kernelspec": {
   "display_name": "timeset",
   "language": "python",
   "name": "timeset"
  },
  "language_info": {
   "codemirror_mode": {
    "name": "ipython",
    "version": 3
   },
   "file_extension": ".py",
   "mimetype": "text/x-python",
   "name": "python",
   "nbconvert_exporter": "python",
   "pygments_lexer": "ipython3",
   "version": "3.10.13"
  }
 },
 "nbformat": 4,
 "nbformat_minor": 5
}
